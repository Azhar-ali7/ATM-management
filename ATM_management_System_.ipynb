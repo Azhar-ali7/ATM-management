{
  "nbformat": 4,
  "nbformat_minor": 0,
  "metadata": {
    "colab": {
      "provenance": [],
      "authorship_tag": "ABX9TyPOCKr9WaSBb+pgCPyXsmZS",
      "include_colab_link": true
    },
    "kernelspec": {
      "name": "python3",
      "display_name": "Python 3"
    },
    "language_info": {
      "name": "python"
    }
  },
  "cells": [
    {
      "cell_type": "markdown",
      "metadata": {
        "id": "view-in-github",
        "colab_type": "text"
      },
      "source": [
        "<a href=\"https://colab.research.google.com/github/Azhar-ali7/ATM-management/blob/main/ATM_management_System_.ipynb\" target=\"_parent\"><img src=\"https://colab.research.google.com/assets/colab-badge.svg\" alt=\"Open In Colab\"/></a>"
      ]
    },
    {
      "cell_type": "markdown",
      "source": [
        "# ATM Management System\n"
      ],
      "metadata": {
        "id": "S4BUd3ex0sjv"
      }
    },
    {
      "cell_type": "code",
      "execution_count": null,
      "metadata": {
        "id": "0bRZfKYTwNJa"
      },
      "outputs": [],
      "source": [
        "# Creating a class for card holders\n",
        "# Customer's name, card number, atm pin and their account balance\n",
        "class cardholder():\n",
        "  def __init__ (self, cardnum, pin, name, balance):\n",
        "    self.cardnum = cardnum\n",
        "    self.pin = pin\n",
        "    self.name = name\n",
        "    self.balance = balance\n",
        "\n",
        "  # Methods for getting different information\n",
        "  def get_cardnum(self):\n",
        "    return self.cardnum\n",
        "  def get_pin(self):\n",
        "    return self.pin\n",
        "  def get_name(self):\n",
        "    return self.name\n",
        "  def get_balance(self):\n",
        "    return self.balance\n",
        "\n",
        "  # Functions for setting different information\n",
        "  def set_cardnum(self, n_val):\n",
        "    self.cardnum = n_val\n",
        "  def set_pin(self, n_val):\n",
        "    self.pin = n_val\n",
        "  def set_name(self, n_val):\n",
        "    self.name = n_val\n",
        "  def set_balance(self, n_val):\n",
        "    self.balance = n_val\n",
        "\n",
        "  # printing information\n",
        "  def print_out(self):\n",
        "    print(\"Card No. \", self.cardnum)\n",
        "    print(\"Name \", self.name)\n",
        "    print(\"Balance \", self.balance)"
      ]
    },
    {
      "cell_type": "code",
      "source": [
        "# Method for printing menu\n",
        "def print_menu():\n",
        "  print('----------------------------')\n",
        "  # print options in menu\n",
        "  print('Please choose from the following options')\n",
        "  print('1. Deposit')\n",
        "  print('2. Withdraw')\n",
        "  print('3. Show Balance')\n",
        "  print('4. Exit')\n",
        "  print('----------------------------')\n",
        "\n",
        "# function to deposit amount\n",
        "def deposit(cardholder):\n",
        "  '''\n",
        "  function for depositing\n",
        "  '''\n",
        "  try:\n",
        "    # user's input for interger\n",
        "    print('----------------------------')\n",
        "    deposit = int(input('How much Rupees would you like to deposit? '))\n",
        "    print('----------------------------')\n",
        "\n",
        "    # using the functions defined above\n",
        "    cardholder.set_balance(cardholder.get_balance() + deposit)\n",
        "    print('----------------------------')\n",
        "    print('Thank you for the deposit. Your new balance is ', str(cardholder.get_balance()))\n",
        "    print('----------------------------')\n",
        "  except:\n",
        "    print('----------------------------')\n",
        "    print('Invalid Input')\n",
        "    print('----------------------------')\n",
        "\n",
        "def withdraw(cardholder):\n",
        "  '''\n",
        "  function for withdraw\n",
        "  '''\n",
        "\n",
        "  try:\n",
        "    # user's input for interger\n",
        "    print('----------------------------')\n",
        "    withdraw = int(input('How much Rupees would you like to withdraw ' ))\n",
        "    print('----------------------------')\n",
        "\n",
        "    # Checking of amount of withdraw is greater than total balance\n",
        "    if cardholder.get_balance() < withdraw:\n",
        "      print('----------------------------')\n",
        "      print('Insufficient Balance ')\n",
        "      print('----------------------------')\n",
        "    else:\n",
        "      # using function defined above to withdraw\n",
        "      cardholder.set_balance(cardholder.get_balance() - withdraw)\n",
        "      print('----------------------------')\n",
        "      print('Please collect your cash the ATM will not take it back')\n",
        "      print('----------------------------')\n",
        "\n",
        "  except:\n",
        "    print('----------------------------')\n",
        "    print('Invalid Input')\n",
        "    print('----------------------------')\n",
        "\n",
        "# function to check balance of the user\n",
        "def check_bal(cardholder):\n",
        "  '''\n",
        "  function for balance check\n",
        "  '''\n",
        "  print('----------------------------')\n",
        "  print('Yur current balance is ', cardholder.get_balance())\n",
        "  print('----------------------------')"
      ],
      "metadata": {
        "id": "vJJLv0apwaf0"
      },
      "execution_count": null,
      "outputs": []
    },
    {
      "cell_type": "code",
      "source": [
        "# bank database of users\n",
        "list_of_cardholders = []\n",
        "list_of_cardholders.append(cardholder('130000001', 1234 , 'Salman Khan', 1000))\n",
        "list_of_cardholders.append(cardholder('130000002', 5678 , 'Akshay Kumar', 2000))\n",
        "list_of_cardholders.append(cardholder('130000003', 9101 , 'Virat Kohli', 3000))\n",
        "list_of_cardholders.append(cardholder('130000004', 1213 , 'Rohit Sharma', 4000))\n",
        "list_of_cardholders.append(cardholder('130000005', 1415 , 'P.V. Sindhu ', 5000))\n",
        "list_of_cardholders.append(cardholder('130000006', 1617 , 'Sunil Chettri', 6000))\n",
        "list_of_cardholders.append(cardholder('130000007', 1819 , 'Shashi Tharoor', 7000))"
      ],
      "metadata": {
        "id": "sfa0-fdd1VjV"
      },
      "execution_count": null,
      "outputs": []
    },
    {
      "cell_type": "code",
      "source": [
        "# check for user's card\n",
        "while True:\n",
        "  try:\n",
        "    print('----------------------------')\n",
        "    cardnumber = input('Please insert your card ')\n",
        "    print('----------------------------')\n",
        "    \n",
        "    # Check in database using list comprehension\n",
        "    cardcheck = [holder for holder in list_of_cardholders if holder.cardnum == cardnumber ]\n",
        "    \n",
        "    # check for valid card number and break loop otherwise it will become infinite loop\n",
        "    if len(cardcheck) > 0:\n",
        "      user = cardcheck[0]\n",
        "      break\n",
        "    \n",
        "    else:\n",
        "      print('----------------------------')\n",
        "      print('Card number not found. Please try again ')\n",
        "      print('----------------------------')\n",
        "  except:\n",
        "    print('----------------------------')\n",
        "    print('Card number not found. Please try again ')\n",
        "    print('----------------------------')\n",
        "\n",
        "# chech for pin\n",
        "\n",
        "while True:\n",
        "  try:\n",
        "    print('----------------------------')\n",
        "    userpin = int(input('Please enter your PIN ').strip())\n",
        "    print('----------------------------')\n",
        "\n",
        "    # if pin is correct then break loop\n",
        "    if user.get_pin() == userpin:\n",
        "      break\n",
        "    else:\n",
        "      print('----------------------------')\n",
        "      print('Invalid PIN please try again')\n",
        "      print('----------------------------')\n",
        "  except:\n",
        "    print('----------------------------')\n",
        "    print('Invalid PIN please try again')\n",
        "    print('----------------------------')\n",
        "\n",
        "\n",
        "# options\n",
        "print('----------------------------')\n",
        "print('Welcome', user.get_name())\n",
        "print('----------------------------')\n",
        "\n",
        "option = 0\n",
        "while True:\n",
        "  print_menu()\n",
        "  try:\n",
        "    print('----------------------------')\n",
        "    option = int(input())\n",
        "    print('----------------------------')\n",
        "  except:\n",
        "    print('----------------------------')\n",
        "    print('Invalid inpur please try again')\n",
        "    print('----------------------------')\n",
        "\n",
        "  if option == 1:\n",
        "    deposit(user)\n",
        "  elif option == 2:\n",
        "    withdraw(user)\n",
        "  elif option == 3:\n",
        "    check_bal(user)\n",
        "  elif option == 4:\n",
        "    break\n",
        "  else:\n",
        "    option = 0\n",
        "\n",
        "print('----------------------------')\n",
        "print('Thank you for banking with us. Have a nice day')\n",
        "print('----------------------------')\n"
      ],
      "metadata": {
        "colab": {
          "base_uri": "https://localhost:8080/"
        },
        "id": "4OMzFt0fwdGX",
        "outputId": "9a7db2fb-ca64-42c8-8d89-cd1f3c0399a6"
      },
      "execution_count": null,
      "outputs": [
        {
          "output_type": "stream",
          "name": "stdout",
          "text": [
            "----------------------------\n",
            "Please insert your card 130000001\n",
            "----------------------------\n",
            "----------------------------\n",
            "Please enter your PIN 1234\n",
            "----------------------------\n",
            "----------------------------\n",
            "Welcome Salman Khan\n",
            "----------------------------\n",
            "----------------------------\n",
            "Please choose from the following options\n",
            "1. Deposit\n",
            "2. Withdraw\n",
            "3. Show Balance\n",
            "4. Exit\n",
            "----------------------------\n",
            "----------------------------\n",
            "4\n",
            "----------------------------\n",
            "----------------------------\n",
            "Thank you for banking with us. Have a nice day\n",
            "----------------------------\n"
          ]
        }
      ]
    },
    {
      "cell_type": "code",
      "source": [],
      "metadata": {
        "id": "lOH16f66zuoP"
      },
      "execution_count": null,
      "outputs": []
    }
  ]
}